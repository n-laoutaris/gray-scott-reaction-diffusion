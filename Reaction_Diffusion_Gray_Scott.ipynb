{
 "cells": [
  {
   "cell_type": "markdown",
   "id": "0fe8a93a",
   "metadata": {},
   "source": [
    "### Reaction Diffusion System - Gray Scott Model"
   ]
  },
  {
   "cell_type": "markdown",
   "id": "76f5603a",
   "metadata": {},
   "source": [
    "Inspiration for this assignment is drawn from nature and its brilliant designs, particularly the formation of Turing patterns in animals. Turing patterns are distinctive and characterized by stripes, spots and combinations of both. In this assignment, we explore the Gray-Scott model of the reaction diffusion system. We approach this problem using the finite element method (FEM), simulate the results with NGSolve and experiment with different parameters to investigate the system's behaviour.\n",
    "The Gray Scott Reaction Diffusion Model belongs to the class of parabolic partial differential equations (PDEs) because it is time-dependent.\n",
    "It consists of the following equations:\n",
    "$$\\begin{aligned}\n",
    "    \\frac{\\partial u}{\\partial t} &= D_u \\nabla^2 u - uv^2 + F(1 - u) \\\\\n",
    "    \\frac{\\partial v}{\\partial t} &= D_v \\nabla^2 v + uv^2 - (F + k)v\n",
    "\\end{aligned} $$\n",
    "where:\n",
    "- $u$ and $v$ are the concentrations of the corresponding chemicals $U$ and $V$, not defined in a specific unit.\n",
    "- $D_u$, $D_v$ are the diffusion rates for $u$ and $v$ respectively. \n",
    "- $F$ is the feed rate, representing the rate $U$ is introduced \n",
    "- $k$ is the kill rate, representing the rate $U$ becomes inhibited by $V$\n",
    "- $uv^2$ represents the reaction term, describing how $U$ and $V$ interact.\n",
    "\n",
    "Our first step is to create a rectangular mesh containing triangular elements and having periodic boundaries.\n",
    "This means that opposite boundaries are linked to each other and their elements and nodes are mapped to the ones on the opposite side and have the same values. This causes a warp-around effect allowing seamless transitions. Containing around 3600 elements, our mesh has sufficient size for the aiming simulations. Next, we create the corresponding finite element space. First order polynomials were used for stability since higher-order ones were found to create overflow errors.\n",
    "\n",
    "### Variational Problem\n",
    "The follow-up step is to derive the weak form of our equations from the strong form.\n",
    "To derive the weak form, we multiply each equation by a test function $\\phi$ and integrate over our domain $\\Omega$. \n",
    "For the diffusion term we integrate and use Green's first identity.\n",
    "Over the periodic boundary, the flux terms at opposite boundaries cancel out, therefore the integral over $\\partial \\Omega$ is equal to zero.\n",
    "##### Weak form for  u:\n",
    "$$\n",
    "\\int_\\Omega \\frac{\\partial u}{\\partial t} \\phi \\, dx\n",
    "= -\\int_\\Omega D_u \\nabla u \\cdot \\nabla \\phi \\, dx + \\int_{\\partial \\Omega} (\\nabla u \\cdot \\mathbf{n}) \\phi\\,ds\n",
    "- \\int_\\Omega (u v^2) \\phi \\, dx \n",
    "+ \\int_\\Omega F(1 - u) \\phi \\, dx\n",
    "$$\n",
    "\n",
    "$$\\int_\\Omega \\frac{\\partial u}{\\partial t} \\phi \\, dx\n",
    "= -\\int_\\Omega D_u \\nabla u \\cdot \\nabla \\phi \\, dx - \\int_\\Omega (u v^2) \\phi \\, dx \n",
    "+ \\int_\\Omega F(1 - u) \\phi \\, dx, \n",
    "\\qquad \\forall \\, \\phi \\in H_0^1(\\Omega) \\; \\forall t \\, \\in (0,T)\n",
    "$$\n",
    "##### Weak form for v:\n",
    "\n",
    "$$\n",
    "\\int_\\Omega \\frac{\\partial v}{\\partial t} \\phi \\, dx\n",
    "= -\\int_\\Omega D_v \\nabla v \\cdot \\nabla \\phi \\, dx +\n",
    "\\int_{\\partial \\Omega} (\\nabla v \\cdot \\mathbf{n}) \\phi \\, ds\n",
    "+ \\int_\\Omega (u v^2) \\phi \\, dx \n",
    "- \\int_\\Omega (F + k)v \\phi \\, dx $$\n",
    "\n",
    "$$\\int_\\Omega \\frac{\\partial v}{\\partial t} \\phi \\, dx\n",
    "= -\\int_\\Omega D_v \\nabla v \\cdot \\nabla \\phi \\, dx + \\int_\\Omega (uv^2) \\phi \\, dx \n",
    "- \\int_\\Omega (F + k)v \\phi \\, dx, \n",
    "\\qquad \\forall \\, \\phi \\in H_0^1(\\Omega) \\; \\forall t \\, \\in (0,T) $$\n",
    "\n",
    "We name the reaction terms as $f_u$ and $f_v$:\n",
    "$$ f_u = \\int_\\Omega \\phi \\left( -u v^2 + F(1 - u) \\right) \\, dx $$\n",
    "\n",
    "$$f_v = \\int_\\Omega \\phi \\left( u v^2 - (F + k)v \\right) \\, dx $$\n",
    "\n",
    "The initial condition is set for $t = 0$:\n",
    "It is essential to have a small disturbance so that the chemicals $U$ and $V$ start reacting.\n",
    "We choose the concentration $u$ to be taken from a random sample of the uniform distribution $U(0.8, 1)$\n",
    "and $v$ to be taken from a random sample of the uniform distribution $U(0, 0.2)$.\n",
    "The unknown functions $u ,v $ are considered as functions with values in the Hilbert space $H^1$:\n",
    "\n",
    "We are now able to express the equations as Hilbert-space valued ordinary differential equations:\n",
    "\n",
    "$$\n",
    "\\frac{d u }{dt }(t) + D_u K u(t) = f_u(t)\n",
    "$$\n",
    "\n",
    "$$\n",
    "\\frac{d v }{dt }(t) + D_v K v(t) = f_v(t)\n",
    "$$\n",
    "### Spatial discretization\n",
    "Let $V_h$ be a finite element subspace of $H^1(\\Omega)$, with basis functions $\\{\\phi_1(x), \\ldots,\\phi_N(x)\\}$. \n",
    "The functions $u$ and $v$ are time-dependent and we may approximate them by:\n",
    "$$ u_h(t):[0,T] \\rightarrow V_h \\\\\n",
    "   v_h(t):[0,T] \\rightarrow V_h$$\n",
    "They may be expressed as: \n",
    "$$    u_h(t) = \\sum_{i=1}^N u_i(t) \\phi_i(x), \\quad v_h(t) = \\sum_{i=1}^N v_i(t) \\phi_i(x),\n",
    "$$\n",
    "where $u_i(t)$ and $v_i(t)$ are time-dependent coefficients.\n",
    "We insert this expansion into the variational formulation, and use spatial test-functions $\\phi = \\phi_j$ :\n",
    "\n",
    "$$\n",
    "\\int_\\Omega \\frac{\\partial}{\\partial t} \\Big\\{ \\sum_{i=1}^N u_i(t) \\phi_i(x) \\Big\\} \\phi_j(x) dx + \n",
    "\\int_\\Omega \\nabla \\Big\\{ \\sum_{i=1}^N u_i(t) \\phi_i(x) \\Big\\} \\; \\nabla \\phi_j(x) = \\int_\\Omega f_u(x,t) \\phi_j(x) \\, dx\n",
    "\\qquad \\forall \\, j = 1 \\ldots N, \\forall \\, t \\in (0,T)\n",
    "$$\n",
    "$$\n",
    "\\int_\\Omega \\frac{\\partial}{\\partial t} \\Big\\{ \\sum_{i=1}^N v_i(t) \\phi_i(x) \\Big\\} \\phi_j(x) dx + \n",
    "\\int_\\Omega \\nabla \\Big\\{ \\sum_{i=1}^N v_i(t) \\phi_i(x) \\Big\\} \\; \\nabla \\phi_j(x) = \\int_\\Omega f_v(x,t) \\phi_j(x) \\, dx\n",
    "\\qquad \\forall \\, j = 1 \\ldots N, \\forall \\, t \\in (0,T)\n",
    "$$\n",
    "\n",
    "The **mass matrix** $M \\in R^{N \\times N}$ is:\n",
    "\n",
    "$$\n",
    "M = \\left\\{ \\int_\\Omega \\phi_i \\phi_j \\, dx \\right\\}_{i,j = 1, \\ldots N}\n",
    "$$\n",
    "and the **stiffness matrix** $K \\in R^{N \\times N}$ is:\n",
    "\n",
    "$$\n",
    "K = \\left\\{ \\int_\\Omega \\nabla \\phi_i \\nabla \\phi_j \\, dx \\right\\}_{i,j = 1, \\ldots N}\n",
    "$$\n",
    "Finally, we obtain the ordinary differential equation:\n",
    "$$\\begin{aligned} M \\frac{du}{dt} + D_u K u &= f_u, \\\\\n",
    "M \\frac{d v}{dt} + D_v K v &= f_v \\end{aligned}$$\n",
    "### Time discretization\n",
    "We have opted to use forward (explicit) Euler time scheme. Its inherent instability does not compromise our model, while its much lower computational cost significantly reduces execution time.\n",
    "$$\n",
    "M \\frac{u^{n+1}-u^{n}}{\\Delta t} + D_uKu^{n} = f_u^n \\Rightarrow\n",
    "M \\frac{u^{n+1}-u^{n}}{\\Delta t}  = f_u^n - D_uKu^n \\Rightarrow$$\n",
    "$$\\frac{u^{n+1}-u^{n}}{\\Delta t}  = M^{-1} ( f_u^n -D_uKu^n) \\Rightarrow\n",
    "u^{n+1}=u^{n}+\\Delta t M^{-1}(f_u^n- D_uKu^n )\n",
    "$$\n",
    "We follow the same procedure for $v$:\n",
    "$$\n",
    "M \\frac{v^{n+1}-v^{n}}{\\Delta t} + D_vKu^n = f_v^n \\Rightarrow\n",
    "M \\frac{v^{n+1}-v^{n}}{\\Delta t}  = f_v^n - D_vKv^n \\Rightarrow$$\n",
    "$$\\frac{v^{n+1}-v^{n}}{\\Delta t}  = M^{-1}(f_v^n -D_vKv^n ) \\Rightarrow\n",
    "v^{n+1}=v^{n}+\\Delta t M^{-1}(f_v^n- D_vKv^n )\n",
    "$$\n",
    "\n",
    "In conclusion, we formulated the Gray-Scott reaction-diffusion system as a weak variational problem, discretized it using the finite element method, and implemented an explicit Euler time-stepping scheme.\n",
    "Our last step is to visualize the emerging Turing Patterns using NGSolve."
   ]
  },
  {
   "cell_type": "code",
   "id": "c4dfb386-0587-4bce-9585-9fbfe81a6725",
   "metadata": {
    "tags": [],
    "jupyter": {
     "is_executing": true
    }
   },
   "source": [
    "from ngsolve import *\n",
    "from ngsolve.webgui import Draw\n",
    "import numpy as np\n",
    "import time\n",
    "from netgen.geom2d import *"
   ],
   "outputs": [],
   "execution_count": null
  },
  {
   "cell_type": "code",
   "id": "49b23560",
   "metadata": {
    "scrolled": false,
    "jupyter": {
     "is_executing": true
    }
   },
   "source": [
    "# Create a square in the geometry\n",
    "periodic = SplineGeometry()\n",
    "pnts = [ (0,0), (40,0), (40,40), (0,40) ]\n",
    "pnums = [periodic.AppendPoint(*p) for p in pnts]\n",
    "\n",
    "# These will be our master edges so we need to save their number.\n",
    "topbot = periodic.Append([\"line\", pnums[0], pnums[1]], bc=\"periodic\")\n",
    "lright = periodic.Append([\"line\", pnums[1], pnums[2]], bc=\"periodic\")\n",
    "# Minion boundaries must be defined in the same direction as master ones.\n",
    "# This is why the the point numbers of this spline are defined in the reverse direction,\n",
    "# leftdomain and rightdomain must therefore be switched as well!\n",
    "# We use the master number as the copy argument to create a minion edge.\n",
    "periodic.Append([\"line\", pnums[3], pnums[2]], leftdomain=0, rightdomain=1, copy=topbot, bc=\"periodic\")\n",
    "periodic.Append([\"line\", pnums[0], pnums[3]], leftdomain=0, rightdomain=1, copy=lright, bc=\"periodic\")\n",
    "\n",
    "# Generate the mesh\n",
    "mesh = Mesh(periodic.GenerateMesh(maxh=1)) \n",
    "Draw(mesh) \n",
    "\n",
    "# Define the finite element space over the given mesh\n",
    "fes = Periodic(H1(mesh, order=1))\n",
    "print(\"vertices = \", mesh.nv, \"| elements = \", mesh.ne)   # number of vertices & elements"
   ],
   "outputs": [],
   "execution_count": null
  },
  {
   "cell_type": "code",
   "execution_count": 3,
   "id": "4a5d85a3",
   "metadata": {
    "ExecuteTime": {
     "end_time": "2025-03-30T22:45:38.757246700Z",
     "start_time": "2024-12-14T13:26:44.298379Z"
    }
   },
   "outputs": [],
   "source": [
    "# Define trial and test functions\n",
    "w = fes.TrialFunction()  \n",
    "phi_w = fes.TestFunction() \n",
    "\n",
    "# Assemble the mass and stiffness matrices\n",
    "mass = BilinearForm(fes)\n",
    "mass += SymbolicBFI(w * phi_w)\n",
    "mass.Assemble()\n",
    "mass_matrix_inverse = mass.mat.Inverse(freedofs=fes.FreeDofs()) # We will use the inverse during the time step\n",
    "\n",
    "stiffness = BilinearForm(fes)\n",
    "stiffness += SymbolicBFI(grad(w) * grad(phi_w))  \n",
    "stiffness.Assemble()\n",
    "stiffness_matrix = stiffness.mat"
   ]
  },
  {
   "cell_type": "code",
   "execution_count": 4,
   "id": "aabe7748",
   "metadata": {
    "ExecuteTime": {
     "end_time": "2025-03-30T22:45:38.757246700Z",
     "start_time": "2024-12-14T13:36:51.379347Z"
    }
   },
   "outputs": [],
   "source": [
    "def InitializeUV():\n",
    "    # GridFunctions for solution\n",
    "    U = GridFunction(fes)  # u solution\n",
    "    V = GridFunction(fes)  # v solution\n",
    "    \n",
    "    # Initial conditions for u and v\n",
    "    n = len(U.vec)\n",
    "    U.vec.data = np.random.uniform(0.8, 1, n)  # random values ranging from 0.8 to 1\n",
    "    V.vec.data = np.random.uniform(0, 0.2, n)  # random values ranging from 0 to 0.2\n",
    "    return U, V\n",
    "  \n",
    "    \n",
    "def sagma(D_u, F, k, dt, iterations, plotmin=0.25, plotmax=1, D_v=None):  # Simulated Anisotropic Growth and Morphogenesis Algorithm\n",
    "    if not D_v:\n",
    "        D_v = 0.5 * D_u # A good rule of thumb\n",
    "    \n",
    "    # Initialization\n",
    "    U, V = InitializeUV()  # solutions\n",
    "    U_storage = GridFunction(fes, multidim=0) # multidimensional visualization output\n",
    "    U_storage.AddMultiDimComponent(U.vec) # store initial state\n",
    "\n",
    "    # Time step\n",
    "    for t in range(iterations + 1):\n",
    "        # Compute the reaction terms\n",
    "        f_u = LinearForm(fes)\n",
    "        f_u += (-U * V * V + F * (1 - U)) * phi_w * dx\n",
    "        f_u.Assemble()\n",
    "\n",
    "        f_v = LinearForm(fes)\n",
    "        f_v += (U * V * V - (F + k) * V) * phi_w * dx\n",
    "        f_v.Assemble()\n",
    "\n",
    "        # Solve for the next time step\n",
    "        U.vec.data += dt * (mass_matrix_inverse * (f_u.vec - D_u * stiffness_matrix * U.vec))\n",
    "        V.vec.data += dt * (mass_matrix_inverse * (f_v.vec - D_v * stiffness_matrix * V.vec))\n",
    "        \n",
    "        # Visualization \n",
    "        steplength = int(iterations/100) # fixed to draw 100 samples\n",
    "        if (t % steplength == 0):\n",
    "            print(f\"Computing ... {round(100*t/iterations)}% complete.\", end=\"\\r\")\n",
    "            U_storage.AddMultiDimComponent(U.vec) # store current state\n",
    "    \n",
    "    # Interpolate between the 100 samples for animation smoothness\n",
    "    print(\"Interpolating... please be patient.\") \n",
    "    Draw(U_storage, interpolate_multidim=True, min = plotmin, max = plotmax, autoscale = False)\n",
    "    Draw(V)\n"
   ]
  },
  {
   "cell_type": "code",
   "execution_count": 5,
   "id": "cdf5fb6a",
   "metadata": {},
   "outputs": [
    {
     "data": {
      "application/vnd.jupyter.widget-view+json": {
       "model_id": "7d5c2d2632f445a8b4425b8cf9017367",
       "version_major": 2,
       "version_minor": 0
      },
      "text/plain": [
       "WebGuiWidget(layout=Layout(height='50vh', width='100%'), value={'gui_settings': {}, 'ngsolve_version': '6.2.24…"
      ]
     },
     "metadata": {},
     "output_type": "display_data"
    },
    {
     "data": {
      "application/vnd.jupyter.widget-view+json": {
       "model_id": "3a9f944d5cb4407a800b341de7d068dc",
       "version_major": 2,
       "version_minor": 0
      },
      "text/plain": [
       "WebGuiWidget(layout=Layout(height='50vh', width='100%'), value={'gui_settings': {}, 'ngsolve_version': '6.2.24…"
      ]
     },
     "metadata": {},
     "output_type": "display_data"
    },
    {
     "data": {
      "text/plain": [
       "BaseWebGuiScene"
      ]
     },
     "execution_count": 5,
     "metadata": {},
     "output_type": "execute_result"
    }
   ],
   "source": [
    "# Example initial state\n",
    "U, V = InitializeUV()\n",
    "Draw(U)\n",
    "Draw(V)"
   ]
  },
  {
   "cell_type": "code",
   "execution_count": null,
   "id": "0e3cd1b1",
   "metadata": {
    "ExecuteTime": {
     "end_time": "2025-03-30T22:45:38.760243800Z",
     "start_time": "2024-12-14T13:39:34.933744Z"
    },
    "scrolled": false
   },
   "outputs": [
    {
     "name": "stdout",
     "output_type": "stream",
     "text": [
      "Computing ... 46% complete.\r"
     ]
    }
   ],
   "source": [
    "sagma(D_u = 0.0164, F = 0.050, k = 0.061, dt = 2, iterations = 2200)  # untitled 7"
   ]
  },
  {
   "cell_type": "code",
   "execution_count": null,
   "id": "3f43f6b7",
   "metadata": {},
   "outputs": [],
   "source": [
    "sagma(D_u=0.0125, F=0.035, k=0.0615, dt=3, iterations = 3500)  # amoeba"
   ]
  },
  {
   "cell_type": "code",
   "execution_count": null,
   "id": "e0292773",
   "metadata": {},
   "outputs": [],
   "source": [
    "sagma(D_u = 0.016, F = 0.050, k = 0.0605, dt = 2, iterations = 1500) # not lines but not dots"
   ]
  },
  {
   "cell_type": "code",
   "execution_count": null,
   "id": "0399ed96",
   "metadata": {},
   "outputs": [],
   "source": [
    "sagma(D_u=0.013, F=0.045, k=0.0595, dt=1, iterations = 2000) # leopard-ly"
   ]
  },
  {
   "cell_type": "code",
   "execution_count": null,
   "id": "efbec8a9",
   "metadata": {},
   "outputs": [],
   "source": [
    "# For further experimentation!\n",
    "\n",
    "#sagma(D_u = 0.016, F = 0.050, k = 0.060, dt = 1, iterations = 3000)  # dots\n",
    "#sagma(D_u = 0.016, F = 0.050, k = 0.061, dt = 2, iterations = 2000)  # very good lines-corals\n",
    "#sagma(D_u=0.0165, F=0.048, k=0.0605, dt=1.5, iterations = 1500)  # leopard-ly same but nice\n",
    "#sagma(D_u=0.064, F=0.035, k=0.057, dt=1, iterations = 1500) # big leopard before overflow\n",
    "#sagma(D_u = 0.0164, F = 0.050, k = 0.06, dt = 1, iterations = 2000)  # untitled 7 dots version\n",
    "#sagma(D_u = 0.011, F = 0.041, k = 0.061, dt = 2, iterations = 2000) #swirly and dotty\n"
   ]
  }
 ],
 "metadata": {
  "kernelspec": {
   "display_name": "Python 3 (ipykernel)",
   "language": "python",
   "name": "python3"
  },
  "language_info": {
   "codemirror_mode": {
    "name": "ipython",
    "version": 3
   },
   "file_extension": ".py",
   "mimetype": "text/x-python",
   "name": "python",
   "nbconvert_exporter": "python",
   "pygments_lexer": "ipython3",
   "version": "3.12.3"
  }
 },
 "nbformat": 4,
 "nbformat_minor": 5
}
